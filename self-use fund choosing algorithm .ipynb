{
 "cells": [
  {
   "cell_type": "code",
   "execution_count": 1,
   "metadata": {},
   "outputs": [],
   "source": [
    "import pandas as pd\n",
    "import numpy as np\n",
    "import math\n",
    "from  datetime  import  *  \n",
    "import  time \n",
    "import requests \n",
    "import re\n",
    "from bs4 import BeautifulSoup as bs\n",
    "from sklearn.impute import SimpleImputer\n",
    "import matplotlib.pyplot as plt\n",
    "%matplotlib inline"
   ]
  },
  {
   "cell_type": "code",
   "execution_count": 2,
   "metadata": {},
   "outputs": [],
   "source": [
    "fundcode = [\"005004\",\"004997\",\"570001\",\"110022\",\"006228\",\"519674\",\"006751\",\"001410\",\"001156\",\"001475\",\"003625\",\"004424\",\"164906\",\"270042\",\"005827\",\"260108\",\"005968\",\"001641\"]\n",
    "startdate = \"2019-3-29\"\n",
    "Rf = 0.02375/250"
   ]
  },
  {
   "cell_type": "code",
   "execution_count": 6,
   "metadata": {},
   "outputs": [],
   "source": [
    "today = time.strftime(\"%Y-%m-%d\")\n",
    "pages = int((pd.to_datetime(today)-pd.to_datetime(startdate)).days/365*250/20)\n",
    "df = pd.DataFrame(columns = [\"基金代码\",\"Date\",\"单位净值\", \"累计净值\", \"日增长率\",\"申购状态\",\"赎回状态\"])\n",
    "for i in fundcode:\n",
    "    for j in range(pages):\n",
    "        url = \"http://fund.eastmoney.com/f10/F10DataApi.aspx?type=lsjz&code=\"+i+\"&sdate=\"+startdate+\"&edate=\"+today+\"&per=20&page=\"+str(j+1)\n",
    "        response = requests.get(url)\n",
    "        page = response.text\n",
    "        soup = bs(page)\n",
    "        table = soup.find(\"table\")\n",
    "        for tr in table.findAll('tr'):\n",
    "            a = [i]\n",
    "            for td in tr.findAll('td'):\n",
    "                if td.text != '':\n",
    "                    a.append(td.text)\n",
    "            a=pd.DataFrame(a).T\n",
    "            try:\n",
    "                a.columns = df.columns\n",
    "            except:\n",
    "                continue\n",
    "            df = pd.concat([df,a])"
   ]
  },
  {
   "cell_type": "code",
   "execution_count": 7,
   "metadata": {},
   "outputs": [],
   "source": [
    "df[\"日增长率\"] = df[\"日增长率\"].apply(lambda x: float(x.strip(\"%\")))"
   ]
  },
  {
   "cell_type": "code",
   "execution_count": 8,
   "metadata": {
    "scrolled": true
   },
   "outputs": [
    {
     "data": {
      "text/html": [
       "<div>\n",
       "<style scoped>\n",
       "    .dataframe tbody tr th:only-of-type {\n",
       "        vertical-align: middle;\n",
       "    }\n",
       "\n",
       "    .dataframe tbody tr th {\n",
       "        vertical-align: top;\n",
       "    }\n",
       "\n",
       "    .dataframe thead th {\n",
       "        text-align: right;\n",
       "    }\n",
       "</style>\n",
       "<table border=\"1\" class=\"dataframe\">\n",
       "  <thead>\n",
       "    <tr style=\"text-align: right;\">\n",
       "      <th>基金代码</th>\n",
       "      <th>001156</th>\n",
       "      <th>001410</th>\n",
       "      <th>001475</th>\n",
       "      <th>001641</th>\n",
       "      <th>003625</th>\n",
       "      <th>004424</th>\n",
       "      <th>004997</th>\n",
       "      <th>005004</th>\n",
       "      <th>005827</th>\n",
       "      <th>005968</th>\n",
       "      <th>006228</th>\n",
       "      <th>006751</th>\n",
       "      <th>110022</th>\n",
       "      <th>164906</th>\n",
       "      <th>260108</th>\n",
       "      <th>270042</th>\n",
       "      <th>519674</th>\n",
       "      <th>570001</th>\n",
       "    </tr>\n",
       "    <tr>\n",
       "      <th>Date</th>\n",
       "      <th></th>\n",
       "      <th></th>\n",
       "      <th></th>\n",
       "      <th></th>\n",
       "      <th></th>\n",
       "      <th></th>\n",
       "      <th></th>\n",
       "      <th></th>\n",
       "      <th></th>\n",
       "      <th></th>\n",
       "      <th></th>\n",
       "      <th></th>\n",
       "      <th></th>\n",
       "      <th></th>\n",
       "      <th></th>\n",
       "      <th></th>\n",
       "      <th></th>\n",
       "      <th></th>\n",
       "    </tr>\n",
       "  </thead>\n",
       "  <tbody>\n",
       "    <tr>\n",
       "      <th>2019-03-29</th>\n",
       "      <td>2.53</td>\n",
       "      <td>2.71</td>\n",
       "      <td>3.91</td>\n",
       "      <td>0.00</td>\n",
       "      <td>2.26</td>\n",
       "      <td>3.24</td>\n",
       "      <td>2.68</td>\n",
       "      <td>3.75</td>\n",
       "      <td>2.50</td>\n",
       "      <td>2.60</td>\n",
       "      <td>0.00</td>\n",
       "      <td>0.228206</td>\n",
       "      <td>3.74</td>\n",
       "      <td>3.120000</td>\n",
       "      <td>4.33</td>\n",
       "      <td>0.900000</td>\n",
       "      <td>3.77</td>\n",
       "      <td>3.70</td>\n",
       "    </tr>\n",
       "    <tr>\n",
       "      <th>2019-04-01</th>\n",
       "      <td>4.38</td>\n",
       "      <td>3.81</td>\n",
       "      <td>3.51</td>\n",
       "      <td>0.27</td>\n",
       "      <td>4.53</td>\n",
       "      <td>1.71</td>\n",
       "      <td>3.35</td>\n",
       "      <td>2.39</td>\n",
       "      <td>1.00</td>\n",
       "      <td>4.12</td>\n",
       "      <td>0.01</td>\n",
       "      <td>0.228206</td>\n",
       "      <td>2.41</td>\n",
       "      <td>1.830000</td>\n",
       "      <td>2.92</td>\n",
       "      <td>1.150000</td>\n",
       "      <td>4.00</td>\n",
       "      <td>3.56</td>\n",
       "    </tr>\n",
       "    <tr>\n",
       "      <th>2019-04-02</th>\n",
       "      <td>0.54</td>\n",
       "      <td>-0.06</td>\n",
       "      <td>0.61</td>\n",
       "      <td>0.18</td>\n",
       "      <td>0.71</td>\n",
       "      <td>-0.94</td>\n",
       "      <td>-0.21</td>\n",
       "      <td>-1.03</td>\n",
       "      <td>-0.66</td>\n",
       "      <td>-0.30</td>\n",
       "      <td>0.00</td>\n",
       "      <td>0.228206</td>\n",
       "      <td>-1.12</td>\n",
       "      <td>-0.630000</td>\n",
       "      <td>-1.20</td>\n",
       "      <td>0.250000</td>\n",
       "      <td>0.19</td>\n",
       "      <td>-0.21</td>\n",
       "    </tr>\n",
       "    <tr>\n",
       "      <th>2019-04-03</th>\n",
       "      <td>0.75</td>\n",
       "      <td>0.77</td>\n",
       "      <td>0.48</td>\n",
       "      <td>0.18</td>\n",
       "      <td>0.23</td>\n",
       "      <td>0.25</td>\n",
       "      <td>0.40</td>\n",
       "      <td>-0.58</td>\n",
       "      <td>0.96</td>\n",
       "      <td>0.00</td>\n",
       "      <td>0.01</td>\n",
       "      <td>0.228206</td>\n",
       "      <td>0.04</td>\n",
       "      <td>1.180000</td>\n",
       "      <td>0.06</td>\n",
       "      <td>0.690000</td>\n",
       "      <td>0.01</td>\n",
       "      <td>-0.02</td>\n",
       "    </tr>\n",
       "    <tr>\n",
       "      <th>2019-04-04</th>\n",
       "      <td>-0.11</td>\n",
       "      <td>-0.53</td>\n",
       "      <td>-0.36</td>\n",
       "      <td>-0.45</td>\n",
       "      <td>0.75</td>\n",
       "      <td>0.17</td>\n",
       "      <td>0.28</td>\n",
       "      <td>1.71</td>\n",
       "      <td>0.74</td>\n",
       "      <td>-0.47</td>\n",
       "      <td>-0.01</td>\n",
       "      <td>0.228206</td>\n",
       "      <td>2.27</td>\n",
       "      <td>-0.390000</td>\n",
       "      <td>2.23</td>\n",
       "      <td>-0.250000</td>\n",
       "      <td>0.35</td>\n",
       "      <td>-0.49</td>\n",
       "    </tr>\n",
       "    <tr>\n",
       "      <th>...</th>\n",
       "      <td>...</td>\n",
       "      <td>...</td>\n",
       "      <td>...</td>\n",
       "      <td>...</td>\n",
       "      <td>...</td>\n",
       "      <td>...</td>\n",
       "      <td>...</td>\n",
       "      <td>...</td>\n",
       "      <td>...</td>\n",
       "      <td>...</td>\n",
       "      <td>...</td>\n",
       "      <td>...</td>\n",
       "      <td>...</td>\n",
       "      <td>...</td>\n",
       "      <td>...</td>\n",
       "      <td>...</td>\n",
       "      <td>...</td>\n",
       "      <td>...</td>\n",
       "    </tr>\n",
       "    <tr>\n",
       "      <th>2021-02-22</th>\n",
       "      <td>-2.74</td>\n",
       "      <td>-1.37</td>\n",
       "      <td>-2.98</td>\n",
       "      <td>-1.39</td>\n",
       "      <td>1.52</td>\n",
       "      <td>-5.70</td>\n",
       "      <td>-0.75</td>\n",
       "      <td>-4.76</td>\n",
       "      <td>-5.05</td>\n",
       "      <td>-3.09</td>\n",
       "      <td>-5.62</td>\n",
       "      <td>-4.250000</td>\n",
       "      <td>-6.47</td>\n",
       "      <td>-4.030000</td>\n",
       "      <td>-6.18</td>\n",
       "      <td>-2.730000</td>\n",
       "      <td>-3.74</td>\n",
       "      <td>-4.46</td>\n",
       "    </tr>\n",
       "    <tr>\n",
       "      <th>2021-02-23</th>\n",
       "      <td>-0.68</td>\n",
       "      <td>-0.22</td>\n",
       "      <td>3.00</td>\n",
       "      <td>0.00</td>\n",
       "      <td>-1.97</td>\n",
       "      <td>-0.69</td>\n",
       "      <td>-1.28</td>\n",
       "      <td>-0.59</td>\n",
       "      <td>-0.11</td>\n",
       "      <td>-0.89</td>\n",
       "      <td>-0.84</td>\n",
       "      <td>0.040000</td>\n",
       "      <td>-0.24</td>\n",
       "      <td>-0.450000</td>\n",
       "      <td>-0.21</td>\n",
       "      <td>-0.310000</td>\n",
       "      <td>-0.94</td>\n",
       "      <td>-0.32</td>\n",
       "    </tr>\n",
       "    <tr>\n",
       "      <th>2021-02-24</th>\n",
       "      <td>-4.32</td>\n",
       "      <td>-1.36</td>\n",
       "      <td>-0.27</td>\n",
       "      <td>-0.52</td>\n",
       "      <td>-4.62</td>\n",
       "      <td>-4.24</td>\n",
       "      <td>-3.31</td>\n",
       "      <td>-2.77</td>\n",
       "      <td>-5.13</td>\n",
       "      <td>-5.06</td>\n",
       "      <td>-4.04</td>\n",
       "      <td>-3.130000</td>\n",
       "      <td>-3.79</td>\n",
       "      <td>-3.020000</td>\n",
       "      <td>-4.36</td>\n",
       "      <td>0.910000</td>\n",
       "      <td>0.51</td>\n",
       "      <td>-3.68</td>\n",
       "    </tr>\n",
       "    <tr>\n",
       "      <th>2021-02-25</th>\n",
       "      <td>-1.21</td>\n",
       "      <td>-1.02</td>\n",
       "      <td>0.68</td>\n",
       "      <td>-0.15</td>\n",
       "      <td>-0.38</td>\n",
       "      <td>0.30</td>\n",
       "      <td>1.22</td>\n",
       "      <td>0.04</td>\n",
       "      <td>-0.53</td>\n",
       "      <td>-0.64</td>\n",
       "      <td>0.24</td>\n",
       "      <td>-0.630000</td>\n",
       "      <td>-0.81</td>\n",
       "      <td>-1.070000</td>\n",
       "      <td>-0.38</td>\n",
       "      <td>-3.670000</td>\n",
       "      <td>-1.23</td>\n",
       "      <td>-0.23</td>\n",
       "    </tr>\n",
       "    <tr>\n",
       "      <th>2021-02-26</th>\n",
       "      <td>-1.90</td>\n",
       "      <td>-1.56</td>\n",
       "      <td>-2.29</td>\n",
       "      <td>-0.60</td>\n",
       "      <td>-4.01</td>\n",
       "      <td>-3.31</td>\n",
       "      <td>-2.81</td>\n",
       "      <td>-1.83</td>\n",
       "      <td>-4.02</td>\n",
       "      <td>-2.22</td>\n",
       "      <td>-2.64</td>\n",
       "      <td>-2.610000</td>\n",
       "      <td>-3.04</td>\n",
       "      <td>0.157862</td>\n",
       "      <td>-1.97</td>\n",
       "      <td>0.122397</td>\n",
       "      <td>-2.18</td>\n",
       "      <td>-1.69</td>\n",
       "    </tr>\n",
       "  </tbody>\n",
       "</table>\n",
       "<p>465 rows × 18 columns</p>\n",
       "</div>"
      ],
      "text/plain": [
       "基金代码        001156  001410  001475  001641  003625  004424  004997  005004  \\\n",
       "Date                                                                         \n",
       "2019-03-29    2.53    2.71    3.91    0.00    2.26    3.24    2.68    3.75   \n",
       "2019-04-01    4.38    3.81    3.51    0.27    4.53    1.71    3.35    2.39   \n",
       "2019-04-02    0.54   -0.06    0.61    0.18    0.71   -0.94   -0.21   -1.03   \n",
       "2019-04-03    0.75    0.77    0.48    0.18    0.23    0.25    0.40   -0.58   \n",
       "2019-04-04   -0.11   -0.53   -0.36   -0.45    0.75    0.17    0.28    1.71   \n",
       "...            ...     ...     ...     ...     ...     ...     ...     ...   \n",
       "2021-02-22   -2.74   -1.37   -2.98   -1.39    1.52   -5.70   -0.75   -4.76   \n",
       "2021-02-23   -0.68   -0.22    3.00    0.00   -1.97   -0.69   -1.28   -0.59   \n",
       "2021-02-24   -4.32   -1.36   -0.27   -0.52   -4.62   -4.24   -3.31   -2.77   \n",
       "2021-02-25   -1.21   -1.02    0.68   -0.15   -0.38    0.30    1.22    0.04   \n",
       "2021-02-26   -1.90   -1.56   -2.29   -0.60   -4.01   -3.31   -2.81   -1.83   \n",
       "\n",
       "基金代码        005827  005968  006228    006751  110022    164906  260108  \\\n",
       "Date                                                                     \n",
       "2019-03-29    2.50    2.60    0.00  0.228206    3.74  3.120000    4.33   \n",
       "2019-04-01    1.00    4.12    0.01  0.228206    2.41  1.830000    2.92   \n",
       "2019-04-02   -0.66   -0.30    0.00  0.228206   -1.12 -0.630000   -1.20   \n",
       "2019-04-03    0.96    0.00    0.01  0.228206    0.04  1.180000    0.06   \n",
       "2019-04-04    0.74   -0.47   -0.01  0.228206    2.27 -0.390000    2.23   \n",
       "...            ...     ...     ...       ...     ...       ...     ...   \n",
       "2021-02-22   -5.05   -3.09   -5.62 -4.250000   -6.47 -4.030000   -6.18   \n",
       "2021-02-23   -0.11   -0.89   -0.84  0.040000   -0.24 -0.450000   -0.21   \n",
       "2021-02-24   -5.13   -5.06   -4.04 -3.130000   -3.79 -3.020000   -4.36   \n",
       "2021-02-25   -0.53   -0.64    0.24 -0.630000   -0.81 -1.070000   -0.38   \n",
       "2021-02-26   -4.02   -2.22   -2.64 -2.610000   -3.04  0.157862   -1.97   \n",
       "\n",
       "基金代码          270042  519674  570001  \n",
       "Date                                  \n",
       "2019-03-29  0.900000    3.77    3.70  \n",
       "2019-04-01  1.150000    4.00    3.56  \n",
       "2019-04-02  0.250000    0.19   -0.21  \n",
       "2019-04-03  0.690000    0.01   -0.02  \n",
       "2019-04-04 -0.250000    0.35   -0.49  \n",
       "...              ...     ...     ...  \n",
       "2021-02-22 -2.730000   -3.74   -4.46  \n",
       "2021-02-23 -0.310000   -0.94   -0.32  \n",
       "2021-02-24  0.910000    0.51   -3.68  \n",
       "2021-02-25 -3.670000   -1.23   -0.23  \n",
       "2021-02-26  0.122397   -2.18   -1.69  \n",
       "\n",
       "[465 rows x 18 columns]"
      ]
     },
     "execution_count": 8,
     "metadata": {},
     "output_type": "execute_result"
    }
   ],
   "source": [
    "data= pd.pivot_table(df,values = \"日增长率\",index = \"Date\",columns=\"基金代码\" )\n",
    "imputer = SimpleImputer(missing_values=np.nan , strategy='mean')\n",
    "data = pd.DataFrame(imputer.fit_transform(data), columns=data.columns,index = data.index)\n",
    "data"
   ]
  },
  {
   "cell_type": "code",
   "execution_count": 9,
   "metadata": {
    "scrolled": true
   },
   "outputs": [],
   "source": [
    "CovMatrix = data.cov()\n",
    "statistics=data.describe()\n",
    "R = statistics[1:3].values\n",
    "cov = CovMatrix.values\n",
    "e = np.ones(len(fundcode))\n",
    "covi = np.linalg.inv(cov)\n",
    "alpha = R[0]@covi@e.T\n",
    "zeta = R[0]@covi@R[0].T\n",
    "delta = e@covi@e.T\n",
    "a=(zeta*covi@e.T - alpha *covi @R[0].T)/(zeta*delta-alpha*alpha)\n",
    "b=(delta*covi@R[0].T-alpha*covi@e.T)/(delta*zeta-alpha*alpha)\n",
    "Rtg = (alpha*Rf-zeta)/(delta*Rf-alpha)\n",
    "Rmv = float(alpha/delta)"
   ]
  },
  {
   "cell_type": "code",
   "execution_count": 10,
   "metadata": {
    "scrolled": true
   },
   "outputs": [
    {
     "data": {
      "image/png": "[encoded data removed]",
      "text/plain": [
       "<Figure size 432x288 with 1 Axes>"
      ]
     },
     "metadata": {
      "needs_background": "light"
     },
     "output_type": "display_data"
    }
   ],
   "source": [
    "y = np.linspace(0, 0.5, 20)\n",
    "x =  pow(1/delta +delta/(delta*zeta-alpha*alpha)*(y-Rmv)*(y-Rmv),0.5)\n",
    "x2 = pow((y-Rf)*(y-Rf)/(zeta-2*alpha*Rf+delta*Rf*Rf),0.5)\n",
    "plt.plot(x, y)\n",
    "plt.plot(x2,y)\n",
    "plt.title('Efficient frontier of the chosen bonds')\n",
    "plt.xlabel('Standard Deviation')\n",
    "plt.ylabel('Expected Portfolio Return')\n",
    "plt.show()"
   ]
  },
  {
   "cell_type": "code",
   "execution_count": 11,
   "metadata": {},
   "outputs": [
    {
     "data": {
      "text/plain": [
       "array([-0.26, -0.13, -0.13,  0.46,  0.09, -0.02,  0.68,  0.1 ,  0.3 ,\n",
       "        0.1 ,  0.07,  0.11, -0.36, -0.09,  0.03,  0.12, -0.12,  0.03])"
      ]
     },
     "execution_count": 11,
     "metadata": {},
     "output_type": "execute_result"
    }
   ],
   "source": [
    "w_star = a+b*Rtg\n",
    "np.round(w_star,2)"
   ]
  },
  {
   "cell_type": "code",
   "execution_count": 12,
   "metadata": {
    "scrolled": true
   },
   "outputs": [
    {
     "data": {
      "text/plain": [
       "0.21295281206696798"
      ]
     },
     "execution_count": 12,
     "metadata": {},
     "output_type": "execute_result"
    }
   ],
   "source": [
    "sharpe = pow(zeta-2*alpha*Rf+delta*Rf**2,0.5)\n",
    "sharpe"
   ]
  },
  {
   "cell_type": "code",
   "execution_count": 13,
   "metadata": {},
   "outputs": [],
   "source": [
    "mean = data.mean(axis=0)\n",
    "covariance_matrix = data.cov()\n",
    "weights2 = 1/np.random.random(size=(10**5, len(fundcode)))\n",
    "weights2 /=  np.sum(weights2, axis=1)[:, np.newaxis]\n",
    "returns = np.dot(weights2, mean)\n",
    "volatility = []\n",
    "for i in range(0, len(weights2)):\n",
    "    volatility.append(np.sqrt(np.dot(weights2[i].T, \n",
    "                                    np.dot(covariance_matrix, weights2[i]))))\n",
    "volatility = np.array(volatility)  \n",
    "sharpe_ratio = returns / volatility"
   ]
  },
  {
   "cell_type": "code",
   "execution_count": 14,
   "metadata": {},
   "outputs": [],
   "source": [
    "ex = []\n",
    "skip = []\n",
    "ey = np.linspace(returns.min(),returns.max(),1000)\n",
    "ey = np.round(ey, 2)    \n",
    "returns = np.round(returns, 2)\n",
    "for index in range(1000):\n",
    "    if ey[index] not in returns:\n",
    "        skip.append(index)\n",
    "        continue\n",
    "    index_needed = np.where(returns == ey[index])\n",
    "    ex.append(np.min(volatility[index_needed]))\n",
    "ey = np.delete(ey, skip)\n",
    "ex=np.array(ex)"
   ]
  },
  {
   "cell_type": "code",
   "execution_count": 15,
   "metadata": {
    "scrolled": true
   },
   "outputs": [
    {
     "data": {
      "image/png": "[encoded data removed]",
      "text/plain": [
       "<Figure size 432x288 with 1 Axes>"
      ]
     },
     "metadata": {
      "needs_background": "light"
     },
     "output_type": "display_data"
    }
   ],
   "source": [
    "plt.scatter(x=volatility,y= returns,cmap='RdYlGn',c=sharpe_ratio, edgecolors='black')\n",
    "plt.plot(ex, ey, 'r--')\n",
    "plt.title(\"Generate Minimum-variance Frontier Using Monte Carlo Simulation\")\n",
    "plt.xlabel(\"Volatility\")\n",
    "plt.ylabel(\"Expected Returns\")\n",
    "plt.tight_layout()\n",
    "plt.show()"
   ]
  },
  {
   "cell_type": "code",
   "execution_count": 16,
   "metadata": {},
   "outputs": [
    {
     "data": {
      "text/plain": [
       "Index(['001156', '001410', '001475', '001641', '003625', '004424', '004997',\n",
       "       '005004', '005827', '005968', '006228', '006751', '110022', '164906',\n",
       "       '260108', '270042', '519674', '570001'],\n",
       "      dtype='object', name='基金代码')"
      ]
     },
     "execution_count": 16,
     "metadata": {},
     "output_type": "execute_result"
    }
   ],
   "source": [
    "data.columns"
   ]
  },
  {
   "cell_type": "code",
   "execution_count": 17,
   "metadata": {
    "scrolled": true
   },
   "outputs": [
    {
     "data": {
      "text/plain": [
       "array([0.01, 0.  , 0.  , 0.01, 0.01, 0.02, 0.56, 0.01, 0.03, 0.01, 0.31,\n",
       "       0.01, 0.  , 0.  , 0.  , 0.01, 0.01, 0.  ])"
      ]
     },
     "execution_count": 17,
     "metadata": {},
     "output_type": "execute_result"
    }
   ],
   "source": [
    "np.round(weights2[np.where(sharpe_ratio == max(sharpe_ratio))],2)[0]"
   ]
  },
  {
   "cell_type": "code",
   "execution_count": 18,
   "metadata": {},
   "outputs": [
    {
     "data": {
      "text/plain": [
       "0.17510808212132725"
      ]
     },
     "execution_count": 18,
     "metadata": {},
     "output_type": "execute_result"
    }
   ],
   "source": [
    "max(sharpe_ratio)"
   ]
  },
  {
   "cell_type": "code",
   "execution_count": 19,
   "metadata": {
    "scrolled": true
   },
   "outputs": [
    {
     "data": {
      "text/plain": [
       "array([0.25])"
      ]
     },
     "execution_count": 19,
     "metadata": {},
     "output_type": "execute_result"
    }
   ],
   "source": [
    "returns[np.where(sharpe_ratio == max(sharpe_ratio))]"
   ]
  },
  {
   "cell_type": "code",
   "execution_count": 20,
   "metadata": {},
   "outputs": [],
   "source": [
    "exit()"
   ]
  },
  {
   "cell_type": "code",
   "execution_count": null,
   "metadata": {},
   "outputs": [],
   "source": []
  }
 ],
 "metadata": {
  "kernelspec": {
   "display_name": "Python 3",
   "language": "python",
   "name": "python3"
  },
  "language_info": {
   "codemirror_mode": {
    "name": "ipython",
    "version": 3
   },
   "file_extension": ".py",
   "mimetype": "text/x-python",
   "name": "python",
   "nbconvert_exporter": "python",
   "pygments_lexer": "ipython3",
   "version": "3.8.5"
  }
 },
 "nbformat": 4,
 "nbformat_minor": 4
}
